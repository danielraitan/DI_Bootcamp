{
 "cells": [
  {
   "cell_type": "code",
   "execution_count": 7,
   "id": "a8cbd51f",
   "metadata": {},
   "outputs": [],
   "source": [
    "import numpy as np"
   ]
  },
  {
   "cell_type": "code",
   "execution_count": null,
   "id": "0759b225",
   "metadata": {},
   "outputs": [],
   "source": [
    "np.__version__"
   ]
  },
  {
   "cell_type": "code",
   "execution_count": null,
   "id": "732c763b",
   "metadata": {},
   "outputs": [],
   "source": [
    "a = np.zeros(10)"
   ]
  },
  {
   "cell_type": "code",
   "execution_count": null,
   "id": "41502abf",
   "metadata": {},
   "outputs": [],
   "source": [
    "a"
   ]
  },
  {
   "cell_type": "code",
   "execution_count": null,
   "id": "04c9a4c9",
   "metadata": {},
   "outputs": [],
   "source": [
    "a.size"
   ]
  },
  {
   "cell_type": "code",
   "execution_count": null,
   "id": "8d1c49c7",
   "metadata": {},
   "outputs": [],
   "source": [
    "a[4]=1"
   ]
  },
  {
   "cell_type": "code",
   "execution_count": null,
   "id": "5399a16a",
   "metadata": {},
   "outputs": [],
   "source": [
    "a"
   ]
  },
  {
   "cell_type": "code",
   "execution_count": null,
   "id": "c993b006",
   "metadata": {},
   "outputs": [],
   "source": [
    "b = np.arange(10,50)"
   ]
  },
  {
   "cell_type": "code",
   "execution_count": null,
   "id": "7e48b131",
   "metadata": {},
   "outputs": [],
   "source": [
    "b"
   ]
  },
  {
   "cell_type": "code",
   "execution_count": null,
   "id": "61d30d3c",
   "metadata": {},
   "outputs": [],
   "source": [
    "np.flip(b)"
   ]
  },
  {
   "cell_type": "code",
   "execution_count": null,
   "id": "9e08cbd0",
   "metadata": {},
   "outputs": [],
   "source": [
    "c = x =  np.arange(2, 11).reshape(3,3)"
   ]
  },
  {
   "cell_type": "code",
   "execution_count": null,
   "id": "3125448e",
   "metadata": {},
   "outputs": [],
   "source": [
    "c"
   ]
  },
  {
   "cell_type": "code",
   "execution_count": null,
   "id": "0c7f081f",
   "metadata": {},
   "outputs": [],
   "source": [
    "d = ([1,2,0,0,4,0])"
   ]
  },
  {
   "cell_type": "code",
   "execution_count": null,
   "id": "cbd7038d",
   "metadata": {},
   "outputs": [],
   "source": [
    "np.nonzero(d)"
   ]
  },
  {
   "cell_type": "code",
   "execution_count": null,
   "id": "73d67949",
   "metadata": {},
   "outputs": [],
   "source": [
    "e = np.identity(3)"
   ]
  },
  {
   "cell_type": "code",
   "execution_count": null,
   "id": "cfa59949",
   "metadata": {},
   "outputs": [],
   "source": [
    "e"
   ]
  },
  {
   "cell_type": "code",
   "execution_count": null,
   "id": "f3beb54e",
   "metadata": {},
   "outputs": [],
   "source": [
    "f = np.random.random((3,3,3))\n",
    "f"
   ]
  },
  {
   "cell_type": "code",
   "execution_count": null,
   "id": "24fa9b0e",
   "metadata": {},
   "outputs": [],
   "source": [
    "g = np.random.random((10,10))\n",
    "np.min(g), np.max(g)"
   ]
  },
  {
   "cell_type": "code",
   "execution_count": null,
   "id": "ed71b67b",
   "metadata": {},
   "outputs": [],
   "source": [
    "h = np.arange(31)\n",
    "h.mean()"
   ]
  },
  {
   "cell_type": "code",
   "execution_count": 11,
   "id": "fc5810f7",
   "metadata": {},
   "outputs": [
    {
     "data": {
      "text/plain": [
       "array([[1., 1., 1., 1., 1.],\n",
       "       [1., 0., 0., 0., 1.],\n",
       "       [1., 0., 0., 0., 1.],\n",
       "       [1., 0., 0., 0., 1.],\n",
       "       [1., 1., 1., 1., 1.]])"
      ]
     },
     "execution_count": 11,
     "metadata": {},
     "output_type": "execute_result"
    }
   ],
   "source": [
    "i = np.ones((5,5))\n",
    "i[1:-1,1:-1] = 0\n",
    "i"
   ]
  },
  {
   "cell_type": "code",
   "execution_count": 15,
   "id": "4e7f5f95",
   "metadata": {},
   "outputs": [
    {
     "data": {
      "text/plain": [
       "array([[0., 0., 0., 0., 0.],\n",
       "       [0., 1., 1., 1., 0.],\n",
       "       [0., 1., 1., 1., 0.],\n",
       "       [0., 1., 1., 1., 0.],\n",
       "       [0., 0., 0., 0., 0.]])"
      ]
     },
     "execution_count": 15,
     "metadata": {},
     "output_type": "execute_result"
    }
   ],
   "source": [
    "j = np.ones((3,3))\n",
    "j = np.pad(x, pad_width=0, mode='constant', constant_values=0)\n",
    "j"
   ]
  },
  {
   "cell_type": "markdown",
   "id": "70ba90dd",
   "metadata": {},
   "source": [
    "python\n",
    "0 * np.nan \n",
    "np.nan == np.nan\n",
    "np.inf > np.nan\n",
    "np.nan - np.nan \n",
    "0.3 == 3 * 0.1\n",
    "false"
   ]
  },
  {
   "cell_type": "code",
   "execution_count": 23,
   "id": "8f4f1638",
   "metadata": {},
   "outputs": [
    {
     "data": {
      "text/plain": [
       "array([[1, 0, 0, 0, 0],\n",
       "       [0, 2, 0, 0, 0],\n",
       "       [0, 0, 3, 0, 0],\n",
       "       [0, 0, 0, 4, 0],\n",
       "       [0, 0, 0, 0, 7]])"
      ]
     },
     "execution_count": 23,
     "metadata": {},
     "output_type": "execute_result"
    }
   ],
   "source": [
    "k = ([ 1,2,3,4,7 ])\n",
    "np.diag(k)"
   ]
  },
  {
   "cell_type": "code",
   "execution_count": 24,
   "id": "23e261ed",
   "metadata": {},
   "outputs": [
    {
     "data": {
      "text/plain": [
       "array([[0, 1, 0, 1, 0, 1, 0, 1],\n",
       "       [1, 0, 1, 0, 1, 0, 1, 0],\n",
       "       [0, 1, 0, 1, 0, 1, 0, 1],\n",
       "       [1, 0, 1, 0, 1, 0, 1, 0],\n",
       "       [0, 1, 0, 1, 0, 1, 0, 1],\n",
       "       [1, 0, 1, 0, 1, 0, 1, 0],\n",
       "       [0, 1, 0, 1, 0, 1, 0, 1],\n",
       "       [1, 0, 1, 0, 1, 0, 1, 0]])"
      ]
     },
     "execution_count": 24,
     "metadata": {},
     "output_type": "execute_result"
    }
   ],
   "source": [
    "l = np.ones((3,3))\n",
    "l = np.zeros((8,8),dtype=int)\n",
    "l[1::2,::2] = 1\n",
    "l[::2,1::2] = 1\n",
    "l"
   ]
  },
  {
   "cell_type": "code",
   "execution_count": 30,
   "id": "4064ae8d",
   "metadata": {},
   "outputs": [
    {
     "data": {
      "text/plain": [
       "array([[0, 1, 0, 1, 0, 1, 0, 1],\n",
       "       [0, 1, 0, 1, 0, 1, 0, 1],\n",
       "       [0, 1, 0, 1, 0, 1, 0, 1],\n",
       "       [0, 1, 0, 1, 0, 1, 0, 1],\n",
       "       [0, 1, 0, 1, 0, 1, 0, 1],\n",
       "       [0, 1, 0, 1, 0, 1, 0, 1],\n",
       "       [0, 1, 0, 1, 0, 1, 0, 1],\n",
       "       [0, 1, 0, 1, 0, 1, 0, 1]])"
      ]
     },
     "execution_count": 30,
     "metadata": {},
     "output_type": "execute_result"
    }
   ],
   "source": [
    "m = np.array([0, 1, 0, 1])\n",
    "np.tile(m, (8, 2))"
   ]
  },
  {
   "cell_type": "code",
   "execution_count": 36,
   "id": "4e1c6503",
   "metadata": {},
   "outputs": [
    {
     "data": {
      "text/plain": [
       "array([[0.56190524, 0.59604798, 0.68825926, 0.04689084, 0.49080291],\n",
       "       [0.09848116, 0.85281125, 0.60078625, 0.94457311, 0.49739215],\n",
       "       [0.65086199, 0.01866476, 0.31421389, 0.35894941, 0.44978975],\n",
       "       [0.48592542, 0.29237152, 0.78683815, 0.43519799, 0.57652362],\n",
       "       [0.93071996, 0.83631617, 0.26024699, 0.75229514, 0.77196119]])"
      ]
     },
     "execution_count": 36,
     "metadata": {},
     "output_type": "execute_result"
    }
   ],
   "source": [
    "n = np.random.random((5,5))\n",
    "n"
   ]
  },
  {
   "cell_type": "code",
   "execution_count": null,
   "id": "8c48c1f1",
   "metadata": {},
   "outputs": [],
   "source": []
  }
 ],
 "metadata": {
  "kernelspec": {
   "display_name": "Python 3 (ipykernel)",
   "language": "python",
   "name": "python3"
  },
  "language_info": {
   "codemirror_mode": {
    "name": "ipython",
    "version": 3
   },
   "file_extension": ".py",
   "mimetype": "text/x-python",
   "name": "python",
   "nbconvert_exporter": "python",
   "pygments_lexer": "ipython3",
   "version": "3.10.8"
  }
 },
 "nbformat": 4,
 "nbformat_minor": 5
}
